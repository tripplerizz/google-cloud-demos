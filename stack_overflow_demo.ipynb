{
 "cells": [
  {
   "cell_type": "markdown",
   "id": "0fd85621-fd4c-4633-84f6-e0a6b634ae10",
   "metadata": {},
   "source": [
    "# Connecting to BigQuery\n",
    "## resource with problem statement of this demo\n",
    "- https://youtu.be/ieaqfU1BwJ8\n",
    "## create queries to filter data, extract features, and clean where possible\n",
    "\n",
    "### below is an **example** query\n",
    "- here a query is made and stored in dataframe\n",
    "- more tags, and api documentation are provided here: https://googleapis.dev/python/bigquery/latest/magics.html\n",
    "\n"
   ]
  },
  {
   "cell_type": "code",
   "execution_count": 1,
   "id": "934a97fa-c614-4c82-bb61-270e94b74588",
   "metadata": {
    "collapsed": true,
    "jupyter": {
     "outputs_hidden": true
    },
    "tags": []
   },
   "outputs": [
    {
     "name": "stdout",
     "output_type": "stream",
     "text": [
      "The google.cloud.bigquery extension is already loaded. To reload it, use:\n",
      "  %reload_ext google.cloud.bigquery\n"
     ]
    }
   ],
   "source": [
    "%load_ext google.cloud.bigquery"
   ]
  },
  {
   "cell_type": "markdown",
   "id": "d86cd702-d275-4486-8359-7250c373119d",
   "metadata": {},
   "source": [
    "### example query to strip **html** , and replace \"|\" with \",\" for delimiting"
   ]
  },
  {
   "cell_type": "code",
   "execution_count": 303,
   "id": "67dba857-b88d-41c6-9f55-f9fdd36baad1",
   "metadata": {
    "collapsed": true,
    "jupyter": {
     "outputs_hidden": true
    },
    "tags": []
   },
   "outputs": [
    {
     "name": "stdout",
     "output_type": "stream",
     "text": [
      "Executing query with job ID: 813fa0cf-9a73-40e6-93f1-9f8a0b4b33e6\n",
      "Query executing: 0.29s\n",
      "Query complete after 0.52s\n"
     ]
    },
    {
     "name": "stderr",
     "output_type": "stream",
     "text": [
      "Query complete after 0.00s: 100%|██████████| 1/1 [00:00<00:00, 941.27query/s] \n",
      "Downloading: 100%|██████████| 30000/30000 [00:01<00:00, 20131.86rows/s]\n"
     ]
    }
   ],
   "source": [
    "%%bigquery dataframe --verbose\n",
    "SELECT \n",
    "LOWER(CONCAT(title, \" \", REGEXP_REPLACE(body, \"<[^>]*>\", \"\"))) as article,\n",
    "REPLACE(tags, \"|\", \",\") AS  tags\n",
    "FROM `bigquery-public-data.stackoverflow.posts_questions`\n",
    "WHERE REGEXP_CONTAINS(tags, r\"(?:python|javascript|mobil|react|pandas)\")\n",
    "limit 30000"
   ]
  },
  {
   "cell_type": "markdown",
   "id": "9815bd98-ae7d-40f1-9bbe-f2529496d0e8",
   "metadata": {},
   "source": [
    "### save query to python pandas dataframe\n",
    "- more data manipulation and rangling can be done in python if needed"
   ]
  },
  {
   "cell_type": "code",
   "execution_count": 7,
   "id": "e2dc8f15-50bb-4a7b-93a2-c2abe1f7c95e",
   "metadata": {
    "collapsed": true,
    "jupyter": {
     "outputs_hidden": true
    },
    "tags": []
   },
   "outputs": [
    {
     "data": {
      "text/plain": [
       "pandas.core.frame.DataFrame"
      ]
     },
     "execution_count": 7,
     "metadata": {},
     "output_type": "execute_result"
    }
   ],
   "source": [
    "type(dataframe)"
   ]
  },
  {
   "cell_type": "code",
   "execution_count": 304,
   "id": "ae64fa57-d518-4180-b51b-212897151c89",
   "metadata": {
    "collapsed": true,
    "jupyter": {
     "outputs_hidden": true
    },
    "tags": []
   },
   "outputs": [
    {
     "data": {
      "text/html": [
       "<div>\n",
       "<style scoped>\n",
       "    .dataframe tbody tr th:only-of-type {\n",
       "        vertical-align: middle;\n",
       "    }\n",
       "\n",
       "    .dataframe tbody tr th {\n",
       "        vertical-align: top;\n",
       "    }\n",
       "\n",
       "    .dataframe thead th {\n",
       "        text-align: right;\n",
       "    }\n",
       "</style>\n",
       "<table border=\"1\" class=\"dataframe\">\n",
       "  <thead>\n",
       "    <tr style=\"text-align: right;\">\n",
       "      <th></th>\n",
       "      <th>article</th>\n",
       "      <th>tags</th>\n",
       "    </tr>\n",
       "  </thead>\n",
       "  <tbody>\n",
       "    <tr>\n",
       "      <th>0</th>\n",
       "      <td>if not opera mini this question is quite simpl...</td>\n",
       "      <td>javascript,jquery,html,opera,opera-mini</td>\n",
       "    </tr>\n",
       "    <tr>\n",
       "      <th>1</th>\n",
       "      <td>store blob data with django and sqlite first o...</td>\n",
       "      <td>python,django,orm,blob,blobstorage</td>\n",
       "    </tr>\n",
       "    <tr>\n",
       "      <th>2</th>\n",
       "      <td>classes and functions in js? here is some samp...</td>\n",
       "      <td>javascript,class</td>\n",
       "    </tr>\n",
       "    <tr>\n",
       "      <th>3</th>\n",
       "      <td>serving media in django i was going through se...</td>\n",
       "      <td>python,django,django-templates</td>\n",
       "    </tr>\n",
       "    <tr>\n",
       "      <th>4</th>\n",
       "      <td>which for loop is more efficient in javascript...</td>\n",
       "      <td>javascript,for-loop,comparison,performance</td>\n",
       "    </tr>\n",
       "    <tr>\n",
       "      <th>...</th>\n",
       "      <td>...</td>\n",
       "      <td>...</td>\n",
       "    </tr>\n",
       "    <tr>\n",
       "      <th>29995</th>\n",
       "      <td>dynamic page (jquery) not loading javascript c...</td>\n",
       "      <td>javascript,jquery,html,css</td>\n",
       "    </tr>\n",
       "    <tr>\n",
       "      <th>29996</th>\n",
       "      <td>jquery show div on hover in php cicle from dat...</td>\n",
       "      <td>javascript,jquery,html,css</td>\n",
       "    </tr>\n",
       "    <tr>\n",
       "      <th>29997</th>\n",
       "      <td>avoid text wrapping while doing a jquery anima...</td>\n",
       "      <td>javascript,jquery,html,css</td>\n",
       "    </tr>\n",
       "    <tr>\n",
       "      <th>29998</th>\n",
       "      <td>zooming photo using jquery hi i'm trying to zo...</td>\n",
       "      <td>javascript,jquery,html,css</td>\n",
       "    </tr>\n",
       "    <tr>\n",
       "      <th>29999</th>\n",
       "      <td>background image rotator with jquery? i am wor...</td>\n",
       "      <td>javascript,jquery,html,css</td>\n",
       "    </tr>\n",
       "  </tbody>\n",
       "</table>\n",
       "<p>30000 rows × 2 columns</p>\n",
       "</div>"
      ],
      "text/plain": [
       "                                                 article  \\\n",
       "0      if not opera mini this question is quite simpl...   \n",
       "1      store blob data with django and sqlite first o...   \n",
       "2      classes and functions in js? here is some samp...   \n",
       "3      serving media in django i was going through se...   \n",
       "4      which for loop is more efficient in javascript...   \n",
       "...                                                  ...   \n",
       "29995  dynamic page (jquery) not loading javascript c...   \n",
       "29996  jquery show div on hover in php cicle from dat...   \n",
       "29997  avoid text wrapping while doing a jquery anima...   \n",
       "29998  zooming photo using jquery hi i'm trying to zo...   \n",
       "29999  background image rotator with jquery? i am wor...   \n",
       "\n",
       "                                             tags  \n",
       "0         javascript,jquery,html,opera,opera-mini  \n",
       "1              python,django,orm,blob,blobstorage  \n",
       "2                                javascript,class  \n",
       "3                  python,django,django-templates  \n",
       "4      javascript,for-loop,comparison,performance  \n",
       "...                                           ...  \n",
       "29995                  javascript,jquery,html,css  \n",
       "29996                  javascript,jquery,html,css  \n",
       "29997                  javascript,jquery,html,css  \n",
       "29998                  javascript,jquery,html,css  \n",
       "29999                  javascript,jquery,html,css  \n",
       "\n",
       "[30000 rows x 2 columns]"
      ]
     },
     "execution_count": 304,
     "metadata": {},
     "output_type": "execute_result"
    }
   ],
   "source": [
    "dataframe"
   ]
  },
  {
   "cell_type": "markdown",
   "id": "a4f4bc27-ddd7-42cf-919b-75a109a86f23",
   "metadata": {},
   "source": [
    "### python string formating -- **data preperation for model training**\n",
    "- code below removes all \",\" and new lines in article\n",
    "- then the tags are filtered and delimited by \",\"\n",
    "- this is done because training **csv** file is delimited by \",\""
   ]
  },
  {
   "cell_type": "code",
   "execution_count": 324,
   "id": "688a911a-d1aa-49ad-b758-b10c8ea52954",
   "metadata": {
    "tags": []
   },
   "outputs": [],
   "source": [
    "#creating deep copy to test with\n",
    "test_dataframe = dataframe.copy(deep=True)\n",
    "\n",
    "# items selected for training\n",
    "interest_items = [\"python\", \"reactjs\", \"pandas\", \"numpy\", \"javascript\",\"sql\", \"jquery\", \"django\", \"php\"]\n",
    "with open(\"file_write.csv\", \"w\") as file_write:\n",
    "    for index, row in test_dataframe.iterrows():\n",
    "\n",
    "        #csv format requires delimiting by comma, appending comma at end of question\n",
    "        test_dataframe.at[index, 'article'] = test_dataframe.at[index, 'article'].replace(',','')\n",
    "        test_dataframe.at[index, 'article'] = test_dataframe.at[index, 'article'].replace('\\n','')\n",
    "        test_dataframe.at[index, 'article'] = test_dataframe.at[index, 'article'] + ','\n",
    "\n",
    "        clean_list = \"\"\n",
    "        #create iterable list of tags\n",
    "        row['tags'] = row['tags'].split(',') \n",
    "        for tag in row['tags']:\n",
    "            if tag in interest_items:\n",
    "                clean_list += tag + \",\" \n",
    "        # # delete rows which don't contain interest items\n",
    "        if not clean_list:\n",
    "            test_dataframe.drop(index, inplace=True)\n",
    "\n",
    "        else:\n",
    "            clean_list = clean_list[:-1]\n",
    "            test_dataframe.at[index, 'tags'] = clean_list\n",
    "            # writing datafram with filtered valuews into comma delimited csv\n",
    "            file_write.write(test_dataframe.at[index, 'article'] + clean_list + \"\\n\")\n",
    "        "
   ]
  },
  {
   "cell_type": "markdown",
   "id": "1756ecf0-77f4-45ba-abdc-59ad4da82046",
   "metadata": {},
   "source": [
    "### note the difference between original and filtered dataframe\n",
    "- test_dataframe == filtered\n",
    "- dataframe == original\n",
    "- test_dataframe even has dropped certain rows, due to a lack of matched interest items"
   ]
  },
  {
   "cell_type": "code",
   "execution_count": 331,
   "id": "cfc8c775-b789-4104-8699-db2e63eecdd9",
   "metadata": {
    "collapsed": true,
    "jupyter": {
     "outputs_hidden": true
    },
    "tags": []
   },
   "outputs": [
    {
     "data": {
      "text/html": [
       "<div>\n",
       "<style scoped>\n",
       "    .dataframe tbody tr th:only-of-type {\n",
       "        vertical-align: middle;\n",
       "    }\n",
       "\n",
       "    .dataframe tbody tr th {\n",
       "        vertical-align: top;\n",
       "    }\n",
       "\n",
       "    .dataframe thead th {\n",
       "        text-align: right;\n",
       "    }\n",
       "</style>\n",
       "<table border=\"1\" class=\"dataframe\">\n",
       "  <thead>\n",
       "    <tr style=\"text-align: right;\">\n",
       "      <th></th>\n",
       "      <th>article</th>\n",
       "      <th>tags</th>\n",
       "    </tr>\n",
       "  </thead>\n",
       "  <tbody>\n",
       "    <tr>\n",
       "      <th>0</th>\n",
       "      <td>if not opera mini this question is quite simpl...</td>\n",
       "      <td>javascript,jquery</td>\n",
       "    </tr>\n",
       "    <tr>\n",
       "      <th>1</th>\n",
       "      <td>store blob data with django and sqlite first o...</td>\n",
       "      <td>python,django</td>\n",
       "    </tr>\n",
       "    <tr>\n",
       "      <th>2</th>\n",
       "      <td>classes and functions in js? here is some samp...</td>\n",
       "      <td>javascript</td>\n",
       "    </tr>\n",
       "    <tr>\n",
       "      <th>3</th>\n",
       "      <td>serving media in django i was going through se...</td>\n",
       "      <td>python,django</td>\n",
       "    </tr>\n",
       "    <tr>\n",
       "      <th>4</th>\n",
       "      <td>which for loop is more efficient in javascript...</td>\n",
       "      <td>javascript</td>\n",
       "    </tr>\n",
       "    <tr>\n",
       "      <th>5</th>\n",
       "      <td>parameters in ajax php callback function i am ...</td>\n",
       "      <td>php,javascript,jquery</td>\n",
       "    </tr>\n",
       "    <tr>\n",
       "      <th>6</th>\n",
       "      <td>can one author a library api – one accessible ...</td>\n",
       "      <td>python</td>\n",
       "    </tr>\n",
       "    <tr>\n",
       "      <th>7</th>\n",
       "      <td>auto convert dictionary into list of dictionar...</td>\n",
       "      <td>python</td>\n",
       "    </tr>\n",
       "    <tr>\n",
       "      <th>8</th>\n",
       "      <td>complex numbers and fractals i am trying to ad...</td>\n",
       "      <td>python</td>\n",
       "    </tr>\n",
       "    <tr>\n",
       "      <th>10</th>\n",
       "      <td>is there any better way to handle list of coun...</td>\n",
       "      <td>javascript</td>\n",
       "    </tr>\n",
       "  </tbody>\n",
       "</table>\n",
       "</div>"
      ],
      "text/plain": [
       "                                              article                   tags\n",
       "0   if not opera mini this question is quite simpl...      javascript,jquery\n",
       "1   store blob data with django and sqlite first o...          python,django\n",
       "2   classes and functions in js? here is some samp...             javascript\n",
       "3   serving media in django i was going through se...          python,django\n",
       "4   which for loop is more efficient in javascript...             javascript\n",
       "5   parameters in ajax php callback function i am ...  php,javascript,jquery\n",
       "6   can one author a library api – one accessible ...                 python\n",
       "7   auto convert dictionary into list of dictionar...                 python\n",
       "8   complex numbers and fractals i am trying to ad...                 python\n",
       "10  is there any better way to handle list of coun...             javascript"
      ]
     },
     "execution_count": 331,
     "metadata": {},
     "output_type": "execute_result"
    }
   ],
   "source": [
    "test_dataframe.head()"
   ]
  },
  {
   "cell_type": "code",
   "execution_count": 314,
   "id": "20aa49ff-4ad3-4268-8da8-3a0987aa2030",
   "metadata": {
    "collapsed": true,
    "jupyter": {
     "outputs_hidden": true
    },
    "tags": []
   },
   "outputs": [
    {
     "data": {
      "text/html": [
       "<div>\n",
       "<style scoped>\n",
       "    .dataframe tbody tr th:only-of-type {\n",
       "        vertical-align: middle;\n",
       "    }\n",
       "\n",
       "    .dataframe tbody tr th {\n",
       "        vertical-align: top;\n",
       "    }\n",
       "\n",
       "    .dataframe thead th {\n",
       "        text-align: right;\n",
       "    }\n",
       "</style>\n",
       "<table border=\"1\" class=\"dataframe\">\n",
       "  <thead>\n",
       "    <tr style=\"text-align: right;\">\n",
       "      <th></th>\n",
       "      <th>article</th>\n",
       "      <th>tags</th>\n",
       "    </tr>\n",
       "  </thead>\n",
       "  <tbody>\n",
       "    <tr>\n",
       "      <th>0</th>\n",
       "      <td>if not opera mini this question is quite simpl...</td>\n",
       "      <td>javascript,jquery,html,opera,opera-mini</td>\n",
       "    </tr>\n",
       "    <tr>\n",
       "      <th>1</th>\n",
       "      <td>store blob data with django and sqlite first o...</td>\n",
       "      <td>python,django,orm,blob,blobstorage</td>\n",
       "    </tr>\n",
       "    <tr>\n",
       "      <th>2</th>\n",
       "      <td>classes and functions in js? here is some samp...</td>\n",
       "      <td>javascript,class</td>\n",
       "    </tr>\n",
       "    <tr>\n",
       "      <th>3</th>\n",
       "      <td>serving media in django i was going through se...</td>\n",
       "      <td>python,django,django-templates</td>\n",
       "    </tr>\n",
       "    <tr>\n",
       "      <th>4</th>\n",
       "      <td>which for loop is more efficient in javascript...</td>\n",
       "      <td>javascript,for-loop,comparison,performance</td>\n",
       "    </tr>\n",
       "    <tr>\n",
       "      <th>5</th>\n",
       "      <td>parameters in ajax php callback function i am ...</td>\n",
       "      <td>php,javascript,jquery,ajax</td>\n",
       "    </tr>\n",
       "    <tr>\n",
       "      <th>6</th>\n",
       "      <td>can one author a library api – one accessible ...</td>\n",
       "      <td>python,c++,c,api,cython</td>\n",
       "    </tr>\n",
       "    <tr>\n",
       "      <th>7</th>\n",
       "      <td>auto convert dictionary into list of dictionar...</td>\n",
       "      <td>python,list,dictionary</td>\n",
       "    </tr>\n",
       "    <tr>\n",
       "      <th>8</th>\n",
       "      <td>complex numbers and fractals i am trying to ad...</td>\n",
       "      <td>python,c,complex-numbers,complextype,fractals</td>\n",
       "    </tr>\n",
       "    <tr>\n",
       "      <th>9</th>\n",
       "      <td>\"current instrumentation disallows attach\" ins...</td>\n",
       "      <td>ipad,ios6,mobile-safari,xcode4.5</td>\n",
       "    </tr>\n",
       "  </tbody>\n",
       "</table>\n",
       "</div>"
      ],
      "text/plain": [
       "                                             article  \\\n",
       "0  if not opera mini this question is quite simpl...   \n",
       "1  store blob data with django and sqlite first o...   \n",
       "2  classes and functions in js? here is some samp...   \n",
       "3  serving media in django i was going through se...   \n",
       "4  which for loop is more efficient in javascript...   \n",
       "5  parameters in ajax php callback function i am ...   \n",
       "6  can one author a library api – one accessible ...   \n",
       "7  auto convert dictionary into list of dictionar...   \n",
       "8  complex numbers and fractals i am trying to ad...   \n",
       "9  \"current instrumentation disallows attach\" ins...   \n",
       "\n",
       "                                            tags  \n",
       "0        javascript,jquery,html,opera,opera-mini  \n",
       "1             python,django,orm,blob,blobstorage  \n",
       "2                               javascript,class  \n",
       "3                 python,django,django-templates  \n",
       "4     javascript,for-loop,comparison,performance  \n",
       "5                     php,javascript,jquery,ajax  \n",
       "6                        python,c++,c,api,cython  \n",
       "7                         python,list,dictionary  \n",
       "8  python,c,complex-numbers,complextype,fractals  \n",
       "9               ipad,ios6,mobile-safari,xcode4.5  "
      ]
     },
     "execution_count": 314,
     "metadata": {},
     "output_type": "execute_result"
    }
   ],
   "source": [
    "dataframe.head()"
   ]
  },
  {
   "cell_type": "markdown",
   "id": "3b65112d-c108-4532-8295-36b98bf0a4cf",
   "metadata": {},
   "source": [
    "# After filtering and writing dataframe to CSV, upload to **Google CLoud Storage** (GCS)\n",
    "## the second cell runs a shell command. \n",
    "- use the \"!\" charector to initiate shell command from **jupitor notebook**"
   ]
  },
  {
   "cell_type": "code",
   "execution_count": 320,
   "id": "996722a6-c6dc-46f4-b499-b31425e672f6",
   "metadata": {
    "collapsed": true,
    "jupyter": {
     "outputs_hidden": true
    },
    "tags": []
   },
   "outputs": [
    {
     "name": "stdout",
     "output_type": "stream",
     "text": [
      "Copying file://file_write.csv [Content-Type=text/csv]...\n",
      "\\ [1 files][ 36.1 MiB/ 36.1 MiB]                                                \n",
      "Operation completed over 1 objects/36.1 MiB.                                     \n"
     ]
    }
   ],
   "source": [
    "!gsutil cp file_write.csv gs://[BUCKET-NAME]/"
   ]
  },
  {
   "cell_type": "markdown",
   "id": "5bb7247d-1836-4c56-9c83-239bbb4662f4",
   "metadata": {},
   "source": [
    "# Creating a model, training and deploying\n",
    "## created based off of this resourece:https://github.com/GoogleCloudPlatform/vertex-ai-samples/blob/main/notebooks/official/automl/automl-text-classification.ipynb"
   ]
  },
  {
   "cell_type": "code",
   "execution_count": null,
   "id": "553d6116-cf51-4735-b582-9a93e9cf372e",
   "metadata": {},
   "outputs": [],
   "source": [
    "#pip install required libraries\n",
    "! pip install {USER_FLAG} --upgrade google-cloud-aiplatform google-cloud-storage jsonlines"
   ]
  },
  {
   "cell_type": "code",
   "execution_count": 333,
   "id": "5b75848a-d349-4e27-aa9b-fa0cf36687db",
   "metadata": {},
   "outputs": [],
   "source": [
    "from google.cloud import aiplatform, storage, bigquery\n",
    "from google.protobuf import json_format\n",
    "\n",
    "REGION = \"[REGION]\"\n",
    "PROJECT_ID = \"[PROJECT_ID]\"\n",
    "BUCKET_NAME = \"[BUCKET_NAME]\"\n",
    "FILE_NAME = \"[FILE_NAME]\"\n",
    "\n",
    "src_uris =\"gs://{}/{}\".format(BUCKET_NAME, FILE_NAME)\n",
    "display_name = \"[DISPLAY_NAME -- your choice of naming\"\n",
    "\n",
    "aiplatform.init(project=PROJECT_ID, location=REGION)"
   ]
  },
  {
   "cell_type": "markdown",
   "id": "64756d13-3e6f-48a7-8cf5-de7410456f94",
   "metadata": {},
   "source": [
    "## create text multi label dataset"
   ]
  },
  {
   "cell_type": "code",
   "execution_count": 334,
   "id": "480cca9b-5aa2-4db2-b8f1-6b96e849677f",
   "metadata": {
    "collapsed": true,
    "jupyter": {
     "outputs_hidden": true
    },
    "tags": []
   },
   "outputs": [
    {
     "name": "stdout",
     "output_type": "stream",
     "text": [
      "INFO:google.cloud.aiplatform.datasets.dataset:Creating TextDataset\n",
      "INFO:google.cloud.aiplatform.datasets.dataset:Create TextDataset backing LRO: projects/513072429921/locations/us-central1/datasets/7070712987622834176/operations/6270467946523394048\n",
      "INFO:google.cloud.aiplatform.datasets.dataset:TextDataset created. Resource name: projects/513072429921/locations/us-central1/datasets/7070712987622834176\n",
      "INFO:google.cloud.aiplatform.datasets.dataset:To use this TextDataset in another session:\n",
      "INFO:google.cloud.aiplatform.datasets.dataset:ds = aiplatform.TextDataset('projects/513072429921/locations/us-central1/datasets/7070712987622834176')\n",
      "INFO:google.cloud.aiplatform.datasets.dataset:Importing TextDataset data: projects/513072429921/locations/us-central1/datasets/7070712987622834176\n",
      "INFO:google.cloud.aiplatform.datasets.dataset:Import TextDataset data backing LRO: projects/513072429921/locations/us-central1/datasets/7070712987622834176/operations/1057551377842044928\n",
      "INFO:google.cloud.aiplatform.datasets.dataset:TextDataset data imported. Resource name: projects/513072429921/locations/us-central1/datasets/7070712987622834176\n"
     ]
    }
   ],
   "source": [
    "#creating text dataset\n",
    "ds = aiplatform.TextDataset.create(\n",
    "    display_name=display_name,\n",
    "    gcs_source=src_uris,\n",
    "    import_schema_uri=aiplatform.schema.dataset.ioformat.text.multi_label_classification,\n",
    "    sync=True,\n",
    ")"
   ]
  },
  {
   "cell_type": "markdown",
   "id": "5cce68c2-2863-440a-8f69-70845cb42ee6",
   "metadata": {},
   "source": [
    "## pull dataset id of most recent dataset created"
   ]
  },
  {
   "cell_type": "code",
   "execution_count": 335,
   "id": "7a564fb6-bd40-494f-82e4-69e47a214b8a",
   "metadata": {},
   "outputs": [],
   "source": [
    "dataset_id = ds.resource_name.split(\"/\")[-1]\n",
    "text_dataset = aiplatform.TextDataset(dataset_id)"
   ]
  },
  {
   "cell_type": "markdown",
   "id": "580d1332-d558-4949-a970-398176b244c3",
   "metadata": {},
   "source": [
    "## create training job description"
   ]
  },
  {
   "cell_type": "code",
   "execution_count": null,
   "id": "5c0a0c92-fc01-4f4d-83f1-39ca0ced04ce",
   "metadata": {},
   "outputs": [],
   "source": [
    "# Define the training job\n",
    "training_job_display_name = \"stack_question_training\" # change to your liking\n",
    "job = aiplatform.AutoMLTextTrainingJob(\n",
    "    display_name=training_job_display_name,\n",
    "    prediction_type=\"classification\",\n",
    "    multi_label=True,\n",
    ")"
   ]
  },
  {
   "cell_type": "markdown",
   "id": "08ed6478-12fe-4e33-a23f-faa067d252ae",
   "metadata": {},
   "source": [
    "## run model training\n",
    "- this took about 4 hours in this test"
   ]
  },
  {
   "cell_type": "code",
   "execution_count": null,
   "id": "7646b544-1def-4ea0-9cb9-99fed4ecd547",
   "metadata": {},
   "outputs": [],
   "source": [
    "model_display_name = \"stack_question_model\" # change to your liking\n",
    "\n",
    "# Run the training job\n",
    "model = job.run(\n",
    "    dataset=text_dataset,\n",
    "    model_display_name=model_display_name,\n",
    "    training_fraction_split=0.7,\n",
    "    validation_fraction_split=0.2,\n",
    "    test_fraction_split=0.1,\n",
    "    sync=True,\n",
    ")"
   ]
  },
  {
   "cell_type": "markdown",
   "id": "707df095-4967-4ffa-b388-a44b1b55b94a",
   "metadata": {},
   "source": [
    "##  deploy model"
   ]
  },
  {
   "cell_type": "code",
   "execution_count": null,
   "id": "2458e1c8-b257-42b6-95c6-aef1198105f8",
   "metadata": {},
   "outputs": [],
   "source": [
    "deployed_model_display_name = \"model-endpoint-stack-questions\" # change to your liking\n",
    "\n",
    "endpoint = model.deploy(\n",
    "    deployed_model_display_name=deployed_model_display_name, sync=True\n",
    ")"
   ]
  },
  {
   "cell_type": "markdown",
   "id": "91e2867c-7a51-48ee-8fb7-69101e27310b",
   "metadata": {},
   "source": [
    "# once model is deployed: \n",
    "- find model endpoint id through vertex ai \"endpoints\" page on **Google Cloud Console**\n",
    "- example: \"[GOOGLE_CLOUD_CONSOLE]/vertex-ai/endpoints?project=[YOUR PROJECT HERE]\"\n",
    "- funciton below is pulled from: https://github.com/googleapis/python-aiplatform/blob/main/samples/snippets/prediction_service/predict_text_classification_single_label_sample.py\n",
    "- **this function** will test your deployed model and is an example of how to use your model to recieve predictions\n",
    "\n",
    "## visualize performance of your model\n",
    "- navigate to \"model\" page of your vertex ai dashboard\n",
    "- here you can inspect the performance of each of your models\n"
   ]
  },
  {
   "cell_type": "code",
   "execution_count": null,
   "id": "a69f91f4-989f-4ffc-ba71-c24265511d66",
   "metadata": {},
   "outputs": [],
   "source": [
    "def predict_text_classification_multi_lable(\n",
    "    project: str,\n",
    "    endpoint_id: str,\n",
    "    content: str,\n",
    "    location: str ,\n",
    "    api_endpoint: str = \"[your model location]-aiplatform.googleapis.com\",\n",
    "):\n",
    "    api_endpoint = location + \"-aiplatform.googleapis.com\"\n",
    "    # The AI Platform services require regional API endpoints.\n",
    "    client_options = {\"api_endpoint\": api_endpoint}\n",
    "    # Initialize client that will be used to create and send requests.\n",
    "    # This client only needs to be created once, and can be reused for multiple requests.\n",
    "    client = aiplatform.gapic.PredictionServiceClient(client_options=client_options)\n",
    "    instance = predict.instance.TextClassificationPredictionInstance(\n",
    "        content=content,\n",
    "    ).to_value()\n",
    "    instances = [instance]\n",
    "    parameters_dict = {}\n",
    "    parameters = json_format.ParseDict(parameters_dict, Value())\n",
    "    endpoint = client.endpoint_path(\n",
    "        project=project, location=location, endpoint=endpoint_id\n",
    "    )\n",
    "    response = client.predict(\n",
    "        endpoint=endpoint, instances=instances, parameters=parameters\n",
    "    )\n",
    "    print(\"response\")\n",
    "    print(\" deployed_model_id:\", response.deployed_model_id)\n",
    "    # See gs://google-cloud-aiplatform/schema/predict/prediction/text_classification.yaml for the format of the predictions.\n",
    "    predictions = response.predictions\n",
    "    for prediction in predictions:\n",
    "        dictionary = dict(prediction)\n",
    "        print(\" prediction:\")\n",
    "        for index in range(len(dictionary['displayNames'])):\n",
    "            print(\"\\t\", dictionary['displayNames'][index], \": \" , dictionary['confidences'][index])\n",
    "    return dictionary \n",
    "            "
   ]
  },
  {
   "cell_type": "code",
   "execution_count": null,
   "id": "47b72e97-4aaa-4aef-a0a1-993cde463026",
   "metadata": {},
   "outputs": [],
   "source": [
    "results =  predict_text_classification_multi_lable(\n",
    "            \"[PROJECT_ID]\",\n",
    "            endpoint_id=\"[YOUR ENDPOINT ID]\",\n",
    "            location=\"[LOCATION FOR YOUR ENDPOINT]\",\n",
    "            content= \"CONTENT YOU WANT TO TEST\"\n",
    "        ) "
   ]
  }
 ],
 "metadata": {
  "environment": {
   "name": "common-cpu.m81",
   "type": "gcloud",
   "uri": "gcr.io/deeplearning-platform-release/base-cpu:m81"
  },
  "kernelspec": {
   "display_name": "Python 3",
   "language": "python",
   "name": "python3"
  },
  "language_info": {
   "codemirror_mode": {
    "name": "ipython",
    "version": 3
   },
   "file_extension": ".py",
   "mimetype": "text/x-python",
   "name": "python",
   "nbconvert_exporter": "python",
   "pygments_lexer": "ipython3",
   "version": "3.7.10"
  }
 },
 "nbformat": 4,
 "nbformat_minor": 5
}
